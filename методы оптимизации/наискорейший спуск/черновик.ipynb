{
 "cells": [
  {
   "cell_type": "code",
   "execution_count": 9,
   "metadata": {},
   "outputs": [],
   "source": [
    "import numpy as np\n",
    "import math\n",
    "\n",
    "def f(a):\n",
    "    '''целевая функция'''\n",
    "    # 𝑓(𝑥1, 𝑥2) = 2(𝑥1)^2 + 5(𝑥2)^2 + (𝑥1)(𝑥2) − 3(𝑥1) − (𝑥2)\n",
    "    return math.prod([2, (pow(a[0], 2))]) + math.prod([5, (pow(a[1], 2))]) + math.prod([a[0], a[1]]) - math.prod([3, a[0]]) - a[1]\n",
    "\n",
    "def grad(a):\n",
    "    '''записываем вектор градиента в массив'''\n",
    "    return np.array([4*a[0] + a[1] - 3 , 10*a[1] + a[0] - 1])"
   ]
  },
  {
   "cell_type": "code",
   "execution_count": 10,
   "metadata": {},
   "outputs": [],
   "source": [
    "def opt_a(A):\n",
    "    '''решение задачи оптимизации для a (метод дихотомии)'''\n",
    "    b1, b2 = -100, 100  # границы отрезка локализации минимума\n",
    "    e = 0.0001          # точность вычеслений\n",
    "    d = e / 2\n",
    "\n",
    "    x1 = (b1 + b2 - d) / 2\n",
    "    x2 = (b1 + b2 + d) / 2\n",
    "\n",
    "    while (b2 - b1)/2 > e:\n",
    "        if A(x1) > A(x2): b1 = x1\n",
    "        else: b2 = x2\n",
    "        x1 = (b1 + b2 - d) / 2\n",
    "        x2 = (b1 + b2 + d) / 2\n",
    "    a = (b2+b1)/2\n",
    "\n",
    "    return a\n",
    "\n",
    "def fastest_ClimbDown(e):\n",
    "    '''метод наискорейшего спуска'''\n",
    "    x = {}\n",
    "    x[0] = [1, 1]   # начальная точка\n",
    "\n",
    "    i = 0\n",
    "    while (grad(x[0])[0]**2 + grad(x[0])[1]**2)**(1/2) > e:\n",
    "        \n",
    "        for i in range(len(x[0])):\n",
    "            x[0][i] = x[0][i] - opt_a(lambda a: f(x[0] - a*grad(x[0])))*grad(x[0])[i]\n",
    "            \n",
    "        i += 1\n",
    "        \n",
    "        print([i, x[0], f(x[0]), opt_a(lambda a: f(x[0] - a*grad(x[0])))])\n",
    "        \n",
    "    return [f(x[0]), x[0]]"
   ]
  },
  {
   "cell_type": "code",
   "execution_count": 11,
   "metadata": {},
   "outputs": [
    {
     "name": "stdout",
     "output_type": "stream",
     "text": [
      "[2, [0.803066302895546, 0.03472295500534428], -1.1201776368760743, 0.1535892102599144]\n",
      "[2, [0.7651315854458234, 0.021473127686084004], -1.1272799536358271, 0.25782578698396685]\n",
      "[2, [0.7439900076976133, 0.025561332572430796], -1.1282048079257652, 0.2568721129059792]\n",
      "[2, [0.7435992118760916, 0.02563939720100735], -1.1282051280279908, 0.2593516655087471]\n"
     ]
    },
    {
     "data": {
      "text/plain": [
       "[-1.1282051280279908, [0.7435992118760916, 0.02563939720100735]]"
      ]
     },
     "execution_count": 11,
     "metadata": {},
     "output_type": "execute_result"
    }
   ],
   "source": [
    "fastest_ClimbDown(0.0001)"
   ]
  },
  {
   "cell_type": "code",
   "execution_count": null,
   "metadata": {},
   "outputs": [],
   "source": []
  }
 ],
 "metadata": {
  "kernelspec": {
   "display_name": "Python 3.10.4 64-bit",
   "language": "python",
   "name": "python3"
  },
  "language_info": {
   "codemirror_mode": {
    "name": "ipython",
    "version": 3
   },
   "file_extension": ".py",
   "mimetype": "text/x-python",
   "name": "python",
   "nbconvert_exporter": "python",
   "pygments_lexer": "ipython3",
   "version": "3.10.4"
  },
  "orig_nbformat": 4,
  "vscode": {
   "interpreter": {
    "hash": "aee8b7b246df8f9039afb4144a1f6fd8d2ca17a180786b69acc140d282b71a49"
   }
  }
 },
 "nbformat": 4,
 "nbformat_minor": 2
}
